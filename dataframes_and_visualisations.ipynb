{
 "cells": [
  {
   "cell_type": "markdown",
   "id": "f285d4d2",
   "metadata": {},
   "source": [
    "# Dataframes and visualisations:"
   ]
  },
  {
   "cell_type": "markdown",
   "id": "4d9b53fe",
   "metadata": {},
   "source": [
    "In this notebook, I create more useable and relevant dataframes from the data collected by Maia. I then use these dataframes to create visualisations such as bar charts, word clouds and a few time series graphs for some of our more interesting observations."
   ]
  },
  {
   "cell_type": "code",
   "execution_count": 1,
   "id": "187da98d",
   "metadata": {},
   "outputs": [],
   "source": [
    "import pandas as pd"
   ]
  },
  {
   "cell_type": "code",
   "execution_count": 2,
   "id": "0b0140e5",
   "metadata": {},
   "outputs": [],
   "source": [
    "acct_file = \"data/reptweets.csv\"\n",
    "word_count_filename = \"data/word_count.csv\"\n",
    "df_politicians = pd.read_csv(acct_file)\n",
    "# csv file has trailing spaces on some column names, this insures there are no leading or trailing spaces\n",
    "df_politicians.columns = df_politicians.columns.str.strip()\n",
    "df_word_count = pd.read_csv(word_count_filename, low_memory=False)\n",
    "# combines the two dataframes joining on the common handle column\n",
    "df_party_word_count = pd.merge(df_politicians, df_word_count, how='inner', on='handle')\n",
    "# get republicans\n",
    "df_reps = df_party_word_count[df_party_word_count.party == 'R']\n",
    "df_dems = df_party_word_count[df_party_word_count.party == 'D']\n",
    "# get independants but only return the columns Word and Count\n",
    "df_dem_words = df_party_word_count[df_party_word_count.party == 'D'][['Word', 'Count']]\n",
    "df_rep_words = df_party_word_count[df_party_word_count.party == 'R'][['Word', 'Count']]"
   ]
  },
  {
   "cell_type": "code",
   "execution_count": 3,
   "id": "9cf8f586",
   "metadata": {},
   "outputs": [],
   "source": [
    "df_dem_sorted = df_dem_words.groupby(['Word']).sum().sort_values(by=[\"Count\"], ascending = False)"
   ]
  },
  {
   "cell_type": "code",
   "execution_count": 4,
   "id": "d07d7313",
   "metadata": {},
   "outputs": [],
   "source": [
    "df_dem_sorted.to_csv('C:/Users/Amara/Documents/GitHub/DS105_Group_Final_Project/democrat_word_counts.csv')"
   ]
  },
  {
   "cell_type": "code",
   "execution_count": 5,
   "id": "678aaef8",
   "metadata": {},
   "outputs": [],
   "source": [
    "df_rep_sorted = df_rep_words.groupby(['Word']).sum().sort_values(by=[\"Count\"], ascending = False)"
   ]
  },
  {
   "cell_type": "code",
   "execution_count": 6,
   "id": "ed593f3d",
   "metadata": {},
   "outputs": [],
   "source": [
    "df_rep_sorted.to_csv('C:/Users/Amara/Documents/GitHub/DS105_Group_Final_Project/republican_word_counts.csv')"
   ]
  },
  {
   "cell_type": "code",
   "execution_count": 7,
   "id": "0f705766",
   "metadata": {},
   "outputs": [],
   "source": [
    "df_democrats = pd.read_csv('democrat_word_counts.csv')"
   ]
  },
  {
   "cell_type": "code",
   "execution_count": 8,
   "id": "c6bdc54c",
   "metadata": {
    "scrolled": false
   },
   "outputs": [
    {
     "data": {
      "text/html": [
       "<div>\n",
       "<style scoped>\n",
       "    .dataframe tbody tr th:only-of-type {\n",
       "        vertical-align: middle;\n",
       "    }\n",
       "\n",
       "    .dataframe tbody tr th {\n",
       "        vertical-align: top;\n",
       "    }\n",
       "\n",
       "    .dataframe thead th {\n",
       "        text-align: right;\n",
       "    }\n",
       "</style>\n",
       "<table border=\"1\" class=\"dataframe\">\n",
       "  <thead>\n",
       "    <tr style=\"text-align: right;\">\n",
       "      <th></th>\n",
       "      <th>Word</th>\n",
       "      <th>Count</th>\n",
       "    </tr>\n",
       "  </thead>\n",
       "  <tbody>\n",
       "    <tr>\n",
       "      <th>0</th>\n",
       "      <td>today</td>\n",
       "      <td>106447</td>\n",
       "    </tr>\n",
       "    <tr>\n",
       "      <th>1</th>\n",
       "      <td>work</td>\n",
       "      <td>96303</td>\n",
       "    </tr>\n",
       "    <tr>\n",
       "      <th>2</th>\n",
       "      <td>more</td>\n",
       "      <td>90738</td>\n",
       "    </tr>\n",
       "    <tr>\n",
       "      <th>3</th>\n",
       "      <td>act</td>\n",
       "      <td>77729</td>\n",
       "    </tr>\n",
       "    <tr>\n",
       "      <th>4</th>\n",
       "      <td>need</td>\n",
       "      <td>76149</td>\n",
       "    </tr>\n",
       "    <tr>\n",
       "      <th>...</th>\n",
       "      <td>...</td>\n",
       "      <td>...</td>\n",
       "    </tr>\n",
       "    <tr>\n",
       "      <th>768</th>\n",
       "      <td>buildup</td>\n",
       "      <td>3</td>\n",
       "    </tr>\n",
       "    <tr>\n",
       "      <th>769</th>\n",
       "      <td>liberation</td>\n",
       "      <td>3</td>\n",
       "    </tr>\n",
       "    <tr>\n",
       "      <th>770</th>\n",
       "      <td>resources</td>\n",
       "      <td>3</td>\n",
       "    </tr>\n",
       "    <tr>\n",
       "      <th>771</th>\n",
       "      <td>hr</td>\n",
       "      <td>3</td>\n",
       "    </tr>\n",
       "    <tr>\n",
       "      <th>772</th>\n",
       "      <td>ii</td>\n",
       "      <td>3</td>\n",
       "    </tr>\n",
       "  </tbody>\n",
       "</table>\n",
       "<p>773 rows × 2 columns</p>\n",
       "</div>"
      ],
      "text/plain": [
       "           Word   Count\n",
       "0         today  106447\n",
       "1          work   96303\n",
       "2          more   90738\n",
       "3           act   77729\n",
       "4          need   76149\n",
       "..          ...     ...\n",
       "768     buildup       3\n",
       "769  liberation       3\n",
       "770   resources       3\n",
       "771          hr       3\n",
       "772          ii       3\n",
       "\n",
       "[773 rows x 2 columns]"
      ]
     },
     "execution_count": 8,
     "metadata": {},
     "output_type": "execute_result"
    }
   ],
   "source": [
    "df_democrats"
   ]
  },
  {
   "cell_type": "code",
   "execution_count": 9,
   "id": "ecb93898",
   "metadata": {
    "scrolled": true
   },
   "outputs": [],
   "source": [
    "df_dems_top_50 = df_democrats.head(50)"
   ]
  },
  {
   "cell_type": "code",
   "execution_count": 10,
   "id": "83d22e83",
   "metadata": {},
   "outputs": [],
   "source": [
    "dems_top_words = [x for x in df_dems_top_50['Word']]"
   ]
  },
  {
   "cell_type": "code",
   "execution_count": 11,
   "id": "07a273bb",
   "metadata": {},
   "outputs": [],
   "source": [
    "df_republicans = pd.read_csv('republican_word_counts.csv')"
   ]
  },
  {
   "cell_type": "code",
   "execution_count": 12,
   "id": "626c6a8c",
   "metadata": {
    "scrolled": true
   },
   "outputs": [],
   "source": [
    "df_reps_top_50 = df_republicans.head(50)"
   ]
  },
  {
   "cell_type": "code",
   "execution_count": 13,
   "id": "cf9b41ce",
   "metadata": {},
   "outputs": [],
   "source": [
    "reps_top_words = [x for x in df_reps_top_50['Word']]"
   ]
  },
  {
   "cell_type": "code",
   "execution_count": 14,
   "id": "ba2cb0a9",
   "metadata": {},
   "outputs": [],
   "source": [
    "from plotnine import *"
   ]
  },
  {
   "cell_type": "code",
   "execution_count": 15,
   "id": "1ada6236",
   "metadata": {},
   "outputs": [],
   "source": [
    "g_democrats = (\n",
    "    ggplot(df_dems_top_50, aes(x=\"Word\",y=\"Count\")) + geom_col(colour='blue', fill='blue') + coord_flip() + theme(figure_size=[9,8]) + ggtitle(\"Bar graph showing the 50 most frequently used words by Democrats on Twitter\")\n",
    ")"
   ]
  },
  {
   "cell_type": "code",
   "execution_count": 16,
   "id": "144df294",
   "metadata": {},
   "outputs": [
    {
     "data": {
      "image/png": "[encoded data removed]",
      "text/plain": [
       "<Figure size 900x800 with 1 Axes>"
      ]
     },
     "metadata": {},
     "output_type": "display_data"
    },
    {
     "data": {
      "text/plain": [
       "<ggplot: (157620909556)>"
      ]
     },
     "execution_count": 16,
     "metadata": {},
     "output_type": "execute_result"
    }
   ],
   "source": [
    "g_democrats"
   ]
  },
  {
   "cell_type": "code",
   "execution_count": 17,
   "id": "14a48d1d",
   "metadata": {
    "scrolled": true
   },
   "outputs": [
    {
     "name": "stderr",
     "output_type": "stream",
     "text": [
      "C:\\Users\\Amara\\anaconda3\\lib\\site-packages\\plotnine\\ggplot.py:718: PlotnineWarning: Saving 9 x 8 in image.\n",
      "C:\\Users\\Amara\\anaconda3\\lib\\site-packages\\plotnine\\ggplot.py:719: PlotnineWarning: Filename: C:\\Users\\Amara\\Documents\\GitHub\\DS105_Group_Final_Project\\figures\\plotnine-save-157620909556.pdf\n"
     ]
    }
   ],
   "source": [
    "ggsave(plot = g_democrats, path = \"C:/Users/Amara/Documents/GitHub/DS105_Group_Final_Project/figures\")"
   ]
  },
  {
   "cell_type": "code",
   "execution_count": 18,
   "id": "ebc5493e",
   "metadata": {},
   "outputs": [],
   "source": [
    "g_republicans = (\n",
    "    ggplot(df_reps_top_50, aes(x=\"Word\",y=\"Count\")) + geom_col(colour='red', fill='red') + coord_flip() + theme(figure_size=[9,8]) + ggtitle(\"Bar graph showing the 50 most frequently used words by Republicans on Twitter\")\n",
    ")"
   ]
  },
  {
   "cell_type": "code",
   "execution_count": 19,
   "id": "0fbe5452",
   "metadata": {
    "scrolled": false
   },
   "outputs": [
    {
     "data": {
      "image/png": "[encoded data removed]",
      "text/plain": [
       "<Figure size 900x800 with 1 Axes>"
      ]
     },
     "metadata": {},
     "output_type": "display_data"
    },
    {
     "data": {
      "text/plain": [
       "<ggplot: (157627559662)>"
      ]
     },
     "execution_count": 19,
     "metadata": {},
     "output_type": "execute_result"
    }
   ],
   "source": [
    "g_republicans"
   ]
  },
  {
   "cell_type": "code",
   "execution_count": 23,
   "id": "ea12383e",
   "metadata": {},
   "outputs": [
    {
     "name": "stderr",
     "output_type": "stream",
     "text": [
      "C:\\Users\\Amara\\anaconda3\\lib\\site-packages\\plotnine\\ggplot.py:718: PlotnineWarning: Saving 9 x 8 in image.\n",
      "C:\\Users\\Amara\\anaconda3\\lib\\site-packages\\plotnine\\ggplot.py:719: PlotnineWarning: Filename: C:\\Users\\Amara\\Documents\\GitHub\\DS105_Group_Final_Project\\figures\\plotnine-save-157627559662.pdf\n"
     ]
    }
   ],
   "source": [
    "ggsave(plot = g_republicans, path = \"C:/Users/Amara/Documents/GitHub/DS105_Group_Final_Project/figures\")"
   ]
  },
  {
   "cell_type": "code",
   "execution_count": 22,
   "id": "0f8647d5",
   "metadata": {},
   "outputs": [],
   "source": [
    "import matplotlib.pyplot as plt"
   ]
  },
  {
   "cell_type": "code",
   "execution_count": 24,
   "id": "23283f07",
   "metadata": {},
   "outputs": [
    {
     "data": {
      "image/png": "[encoded data removed]",
      "text/plain": [
       "<Figure size 432x288 with 1 Axes>"
      ]
     },
     "metadata": {
      "needs_background": "light"
     },
     "output_type": "display_data"
    }
   ],
   "source": [
    "dems_counts = [x for x in df_dems_top_50['Count']]\n",
    "\n",
    "plt.bar(dems_top_words, height = dems_counts, color = 'blue')\n",
    "plt.xticks(rotation=30, ha='right')\n",
    "plt.ylabel(\"Count\")\n",
    "plt.xlabel(\"Word\")\n",
    "plt.savefig('figures/democrat_top_50.png', transparent = True)\n",
    "plt.show()"
   ]
  },
  {
   "cell_type": "code",
   "execution_count": 25,
   "id": "b0af09e4",
   "metadata": {},
   "outputs": [
    {
     "data": {
      "image/png": "[encoded data removed]",
      "text/plain": [
       "<Figure size 432x288 with 1 Axes>"
      ]
     },
     "metadata": {
      "needs_background": "light"
     },
     "output_type": "display_data"
    }
   ],
   "source": [
    "reps_counts = [x for x in df_reps_top_50['Count']]\n",
    "\n",
    "plt.bar(reps_top_words, height = reps_counts, color = 'red')\n",
    "plt.xticks(rotation=30, ha='right')\n",
    "plt.ylabel(\"Count\")\n",
    "plt.xlabel(\"Word\")\n",
    "plt.savefig('figures/republican_top_50.png', transparent = True)\n",
    "plt.show()"
   ]
  },
  {
   "cell_type": "markdown",
   "id": "5a63c149",
   "metadata": {},
   "source": [
    "## Wordclouds:"
   ]
  },
  {
   "cell_type": "code",
   "execution_count": null,
   "id": "cb0ebc93",
   "metadata": {},
   "outputs": [],
   "source": [
    "from wordcloud import WordCloud\n",
    "from wordcloud import ImageColorGenerator\n",
    "import matplotlib.pyplot as plt\n",
    "from wordcloud import STOPWORDS"
   ]
  },
  {
   "cell_type": "code",
   "execution_count": null,
   "id": "6ac796e6",
   "metadata": {},
   "outputs": [],
   "source": [
    "dtext = \" \".join(i for i in df_democrats.Word)\n",
    "dwordcloud = WordCloud(background_color=\"white\", scale=3, colormap=\"Blues\").generate(dtext)\n",
    "plt.figure( figsize=(15,10))\n",
    "plt.imshow(dwordcloud, interpolation='bilinear')\n",
    "plt.axis(\"off\")\n",
    "plt.savefig('democrats_word_cloud.png')\n",
    "plt.show()"
   ]
  },
  {
   "cell_type": "code",
   "execution_count": null,
   "id": "0e21a0e2",
   "metadata": {
    "scrolled": false
   },
   "outputs": [],
   "source": [
    "rtext = \" \".join(i for i in df_republicans.Word)\n",
    "rwordcloud = WordCloud(background_color=\"white\", scale=3, colormap=\"Reds\").generate(rtext)\n",
    "plt.figure( figsize=(15,10))\n",
    "plt.imshow(rwordcloud, interpolation='bilinear')\n",
    "plt.axis(\"off\")\n",
    "plt.savefig('republicans_word_cloud.png')\n",
    "plt.show()"
   ]
  },
  {
   "cell_type": "code",
   "execution_count": null,
   "id": "30bcb654",
   "metadata": {},
   "outputs": [],
   "source": [
    "import numpy as np"
   ]
  },
  {
   "cell_type": "code",
   "execution_count": null,
   "id": "6df00398",
   "metadata": {},
   "outputs": [],
   "source": [
    "from PIL import Image"
   ]
  },
  {
   "cell_type": "code",
   "execution_count": null,
   "id": "05f17b68",
   "metadata": {},
   "outputs": [],
   "source": [
    "republican_mask = np.array(Image.open(\"C:/Users/Amara/Documents/DS105/Group_project/Images/republican_elephant.jpg\"))"
   ]
  },
  {
   "cell_type": "code",
   "execution_count": null,
   "id": "64d2bc7d",
   "metadata": {},
   "outputs": [],
   "source": [
    "rwc2 = WordCloud(background_color=\"white\", mask=republican_mask, max_words=200, scale=3, colormap=\"Reds\").generate_from_text(rtext)\n",
    "plt.figure( figsize=(10,15))\n",
    "plt.imshow(rwc2, interpolation='bilinear')\n",
    "plt.axis(\"off\")\n",
    "plt.savefig('figures/republican_word_cloud.png', transparent = True)\n",
    "plt.show()"
   ]
  },
  {
   "cell_type": "code",
   "execution_count": null,
   "id": "10c25445",
   "metadata": {},
   "outputs": [],
   "source": [
    "democrat_mask = np.array(Image.open(\"C:/Users/Amara/Documents/DS105/Group_project/Images/democrat_donkey.jpg\"))"
   ]
  },
  {
   "cell_type": "code",
   "execution_count": null,
   "id": "5635d232",
   "metadata": {
    "scrolled": false
   },
   "outputs": [],
   "source": [
    "dwc2 = WordCloud(background_color=\"white\", mask=democrat_mask, max_words=200, scale=100, colormap=\"Blues\").generate_from_text(dtext)\n",
    "plt.figure( figsize=(15,15))\n",
    "plt.imshow(dwc2, interpolation='bilinear')\n",
    "plt.axis(\"off\")\n",
    "plt.savefig('figures/democrat_word_cloud.png', transparent = True)\n",
    "plt.show()"
   ]
  },
  {
   "cell_type": "markdown",
   "id": "133b75a3",
   "metadata": {},
   "source": [
    "## Finding exclusive trends:"
   ]
  },
  {
   "cell_type": "code",
   "execution_count": null,
   "id": "53d76dde",
   "metadata": {},
   "outputs": [],
   "source": [
    "df_politicians.head()"
   ]
  },
  {
   "cell_type": "code",
   "execution_count": null,
   "id": "b172fd4c",
   "metadata": {},
   "outputs": [],
   "source": [
    "df_word_count.head()"
   ]
  },
  {
   "cell_type": "code",
   "execution_count": null,
   "id": "db3c6db0",
   "metadata": {},
   "outputs": [],
   "source": [
    "df_party_word_count.head()"
   ]
  },
  {
   "cell_type": "code",
   "execution_count": null,
   "id": "b2454498",
   "metadata": {},
   "outputs": [],
   "source": [
    "with_dates = pd.read_csv('all_tweets.csv')"
   ]
  },
  {
   "cell_type": "code",
   "execution_count": null,
   "id": "39e62243",
   "metadata": {},
   "outputs": [],
   "source": [
    "with_dates.tail()"
   ]
  },
  {
   "cell_type": "code",
   "execution_count": null,
   "id": "09ef434b",
   "metadata": {},
   "outputs": [],
   "source": [
    "df_reps.head()"
   ]
  },
  {
   "cell_type": "code",
   "execution_count": null,
   "id": "3a2c5123",
   "metadata": {},
   "outputs": [],
   "source": [
    "republican_handles = []\n",
    "for x in df_reps['handle']:\n",
    "    if x not in republican_handles:\n",
    "        republican_handles.append(x)"
   ]
  },
  {
   "cell_type": "code",
   "execution_count": null,
   "id": "0e910da3",
   "metadata": {},
   "outputs": [],
   "source": [
    "len(republican_handles)"
   ]
  },
  {
   "cell_type": "code",
   "execution_count": null,
   "id": "7ed65c81",
   "metadata": {},
   "outputs": [],
   "source": [
    "df_dems.head()"
   ]
  },
  {
   "cell_type": "code",
   "execution_count": null,
   "id": "ec400caf",
   "metadata": {},
   "outputs": [],
   "source": [
    "democrat_handles = []\n",
    "for x in df_dems['handle']:\n",
    "    if x not in democrat_handles:\n",
    "        democrat_handles.append(x)"
   ]
  },
  {
   "cell_type": "code",
   "execution_count": null,
   "id": "21c470a0",
   "metadata": {},
   "outputs": [],
   "source": [
    "len(democrat_handles)"
   ]
  },
  {
   "cell_type": "code",
   "execution_count": null,
   "id": "fb40fb3f",
   "metadata": {},
   "outputs": [],
   "source": [
    "tweets = pd.read_csv(\"data/tweets.csv\")\n",
    "dates_tweets = tweets.drop(labels='name', axis=1, index=None, columns=None, level=None, inplace=False, errors='raise').drop(labels='tweet_id', axis=1, index=None, columns=None, level=None, inplace=False, errors='raise').drop(labels='author_id', axis=1, index=None, columns=None, level=None, inplace=False, errors='raise').drop(labels='lang', axis=1, index=None, columns=None, level=None, inplace=False, errors='raise').drop(labels='replied_to', axis=1, index=None, columns=None, level=None, inplace=False, errors='raise').drop(labels='possibly_sensitive', axis=1, index=None, columns=None, level=None, inplace=False, errors='raise').drop(labels='conversation_id', axis=1, index=None, columns=None, level=None, inplace=False, errors='raise')"
   ]
  },
  {
   "cell_type": "code",
   "execution_count": null,
   "id": "ba74945c",
   "metadata": {
    "scrolled": true
   },
   "outputs": [],
   "source": [
    "dates_tweets.head()"
   ]
  },
  {
   "cell_type": "code",
   "execution_count": null,
   "id": "5ea47672",
   "metadata": {},
   "outputs": [],
   "source": [
    "democrat_tweets = []\n",
    "for i in range(len(dates_tweets)):\n",
    "    if dates_tweets.iloc[i]['handle'] in democrat_handles:\n",
    "        democrat_tweets.append(dates_tweets.iloc[i])"
   ]
  },
  {
   "cell_type": "code",
   "execution_count": null,
   "id": "3d6faa4f",
   "metadata": {},
   "outputs": [],
   "source": [
    "df_democrat_tweets = pd.DataFrame(democrat_tweets)"
   ]
  },
  {
   "cell_type": "code",
   "execution_count": null,
   "id": "025c9b30",
   "metadata": {},
   "outputs": [],
   "source": [
    "df_democrat_tweets.to_csv('C:/Users/Amara/Documents/GitHub/DS105-Project/data/democrat_tweets.csv')"
   ]
  },
  {
   "cell_type": "code",
   "execution_count": null,
   "id": "a6d56ae9",
   "metadata": {},
   "outputs": [],
   "source": [
    "df_dem_tweets = pd.read_csv('data/democrat_tweets.csv')"
   ]
  },
  {
   "cell_type": "code",
   "execution_count": null,
   "id": "4c9c8b2e",
   "metadata": {
    "scrolled": false
   },
   "outputs": [],
   "source": [
    "df_dem_tweets.head()"
   ]
  },
  {
   "cell_type": "code",
   "execution_count": null,
   "id": "ec1b4af3",
   "metadata": {},
   "outputs": [],
   "source": [
    "republican_tweets = []\n",
    "for i in range(len(dates_tweets)):\n",
    "    if dates_tweets.iloc[i]['handle'] in republican_handles:\n",
    "        republican_tweets.append(dates_tweets.iloc[i])"
   ]
  },
  {
   "cell_type": "code",
   "execution_count": null,
   "id": "828f1439",
   "metadata": {},
   "outputs": [],
   "source": [
    "df_republican_tweets = pd.DataFrame(republican_tweets)"
   ]
  },
  {
   "cell_type": "code",
   "execution_count": null,
   "id": "d4dc500b",
   "metadata": {},
   "outputs": [],
   "source": [
    "df_republican_tweets.to_csv('C:/Users/Amara/Documents/GitHub/DS105-Project/data/republican_tweets.csv')"
   ]
  },
  {
   "cell_type": "code",
   "execution_count": null,
   "id": "43f802a9",
   "metadata": {},
   "outputs": [],
   "source": [
    "df_rep_tweets = pd.read_csv('data/republican_tweets.csv')"
   ]
  },
  {
   "cell_type": "code",
   "execution_count": null,
   "id": "8218b68e",
   "metadata": {},
   "outputs": [],
   "source": [
    "df_rep_tweets.head()"
   ]
  },
  {
   "cell_type": "code",
   "execution_count": null,
   "id": "094ec96c",
   "metadata": {},
   "outputs": [],
   "source": [
    "reps_not_dems = []\n",
    "for i in range(len(reps_top_words)):\n",
    "    if reps_top_words[i] not in dems_top_words:\n",
    "        reps_not_dems.append(reps_top_words[i])"
   ]
  },
  {
   "cell_type": "code",
   "execution_count": null,
   "id": "d07e8ee3",
   "metadata": {},
   "outputs": [],
   "source": [
    "reps_not_dems"
   ]
  },
  {
   "cell_type": "code",
   "execution_count": null,
   "id": "743fd82a",
   "metadata": {},
   "outputs": [],
   "source": [
    "dems_not_reps = []\n",
    "for i in range(len(dems_top_words)):\n",
    "    if dems_top_words[i] not in reps_top_words:\n",
    "        dems_not_reps.append(dems_top_words[i])"
   ]
  },
  {
   "cell_type": "code",
   "execution_count": null,
   "id": "4dfa679f",
   "metadata": {},
   "outputs": [],
   "source": [
    "dems_not_reps"
   ]
  },
  {
   "cell_type": "code",
   "execution_count": null,
   "id": "759a5d7c",
   "metadata": {},
   "outputs": [],
   "source": [
    "df_dems_top_50.head()"
   ]
  },
  {
   "cell_type": "code",
   "execution_count": null,
   "id": "2d6feebd",
   "metadata": {},
   "outputs": [],
   "source": [
    "dems_only_words = []\n",
    "for i in range(len(df_dems_top_50)):\n",
    "    for word in dems_not_reps:\n",
    "        if df_dems_top_50.iloc[i]['Word'] == word:\n",
    "            dems_only_words.append(df_dems_top_50.iloc[i])"
   ]
  },
  {
   "cell_type": "code",
   "execution_count": null,
   "id": "83fc1188",
   "metadata": {},
   "outputs": [],
   "source": [
    "df_dems_only_words = pd.DataFrame(dems_only_words)"
   ]
  },
  {
   "cell_type": "code",
   "execution_count": null,
   "id": "99050e4b",
   "metadata": {},
   "outputs": [],
   "source": [
    "df_dems_only_words"
   ]
  },
  {
   "cell_type": "code",
   "execution_count": null,
   "id": "b9235fd7",
   "metadata": {},
   "outputs": [],
   "source": [
    "g_democrats_only = (\n",
    "    ggplot(df_dems_only_words, aes(x=\"Word\",y=\"Count\")) + geom_col() + coord_flip() + theme(figure_size=[9,6])\n",
    ")"
   ]
  },
  {
   "cell_type": "code",
   "execution_count": null,
   "id": "fc65c37a",
   "metadata": {
    "scrolled": false
   },
   "outputs": [],
   "source": [
    "g_democrats_only"
   ]
  },
  {
   "cell_type": "code",
   "execution_count": null,
   "id": "a025827d",
   "metadata": {
    "scrolled": true
   },
   "outputs": [],
   "source": [
    "dem_counts = [x for x in df_dems_only_words['Count']]\n",
    "\n",
    "plt.bar(dems_not_reps, height = dem_counts, color = 'blue')\n",
    "plt.xticks(rotation=30, ha='right')\n",
    "plt.ylabel(\"Count\")\n",
    "plt.xlabel(\"Word\")\n",
    "plt.show()\n",
    "plt.savefig('figures/top_democrat_words_exclusive.png')"
   ]
  },
  {
   "cell_type": "code",
   "execution_count": null,
   "id": "eb70eb81",
   "metadata": {},
   "outputs": [],
   "source": [
    "reps_only_words = []\n",
    "for i in range(len(df_reps_top_50)):\n",
    "    for word in reps_not_dems:\n",
    "        if df_reps_top_50.iloc[i]['Word'] == word:\n",
    "            reps_only_words.append(df_reps_top_50.iloc[i])"
   ]
  },
  {
   "cell_type": "code",
   "execution_count": null,
   "id": "e80f49b0",
   "metadata": {},
   "outputs": [],
   "source": [
    "df_reps_only_words = pd.DataFrame(reps_only_words)"
   ]
  },
  {
   "cell_type": "code",
   "execution_count": null,
   "id": "0640cf5a",
   "metadata": {},
   "outputs": [],
   "source": [
    "df_reps_only_words"
   ]
  },
  {
   "cell_type": "code",
   "execution_count": null,
   "id": "47e83a62",
   "metadata": {},
   "outputs": [],
   "source": [
    "g_republicans_only = (\n",
    "    ggplot(df_reps_only_words, aes(x=\"Word\",y=\"Count\")) + geom_col() + coord_flip() + theme(figure_size=[9,6])\n",
    ")"
   ]
  },
  {
   "cell_type": "code",
   "execution_count": null,
   "id": "4dac78c3",
   "metadata": {},
   "outputs": [],
   "source": [
    "g_republicans_only"
   ]
  },
  {
   "cell_type": "code",
   "execution_count": null,
   "id": "2761b76a",
   "metadata": {},
   "outputs": [],
   "source": [
    "rep_counts = [x for x in df_reps_only_words['Count']]\n",
    "\n",
    "plt.bar(reps_not_dems, height = rep_counts, color = 'red')\n",
    "plt.xticks(rotation=30, ha='right')\n",
    "plt.ylabel(\"Count\")\n",
    "plt.xlabel(\"Word\")\n",
    "plt.show()\n",
    "plt.savefig('figures/top_republican_words_exclusive.png')"
   ]
  },
  {
   "cell_type": "markdown",
   "id": "28942887",
   "metadata": {},
   "source": [
    "## Time series for 'border' by republicans:"
   ]
  },
  {
   "cell_type": "code",
   "execution_count": null,
   "id": "ea033ede",
   "metadata": {},
   "outputs": [],
   "source": [
    "border_dates = []\n",
    "for i in range(len(df_rep_tweets)):\n",
    "    if 'border' in df_rep_tweets.iloc[i]['key_word_list']:\n",
    "        border_dates.append(df_rep_tweets.iloc[i]['created_at'][:10])"
   ]
  },
  {
   "cell_type": "code",
   "execution_count": null,
   "id": "b1ffd85f",
   "metadata": {},
   "outputs": [],
   "source": [
    "len(border_dates)"
   ]
  },
  {
   "cell_type": "code",
   "execution_count": null,
   "id": "45b74c72",
   "metadata": {},
   "outputs": [],
   "source": [
    "counts = []\n",
    "for i in range(len(border_dates)):\n",
    "    counts.append(1)"
   ]
  },
  {
   "cell_type": "code",
   "execution_count": null,
   "id": "76a88227",
   "metadata": {},
   "outputs": [],
   "source": [
    "border_df = pd.DataFrame(list(zip(border_dates, counts)),\n",
    "               columns =['Date', 'Count'])"
   ]
  },
  {
   "cell_type": "code",
   "execution_count": null,
   "id": "90d80d8f",
   "metadata": {},
   "outputs": [],
   "source": [
    "len(border_df)"
   ]
  },
  {
   "cell_type": "code",
   "execution_count": null,
   "id": "a69bc3fa",
   "metadata": {},
   "outputs": [],
   "source": [
    "grouped_border_df = border_df.groupby(['Date']).sum()"
   ]
  },
  {
   "cell_type": "code",
   "execution_count": null,
   "id": "43799f46",
   "metadata": {},
   "outputs": [],
   "source": [
    "grouped_border_df"
   ]
  },
  {
   "cell_type": "code",
   "execution_count": null,
   "id": "edc4c381",
   "metadata": {},
   "outputs": [],
   "source": [
    "grouped_border_df.plot()"
   ]
  },
  {
   "cell_type": "code",
   "execution_count": null,
   "id": "b6d8c5c0",
   "metadata": {},
   "outputs": [],
   "source": [
    "grouped_border_df.to_csv('C:/Users/Amara/Documents/GitHub/DS105-Project/data/grouped_border_df.csv')"
   ]
  },
  {
   "cell_type": "code",
   "execution_count": null,
   "id": "61d5af33",
   "metadata": {},
   "outputs": [],
   "source": [
    "df_grouped_border = pd.read_csv(\"data/grouped_border_df.csv\")"
   ]
  },
  {
   "cell_type": "code",
   "execution_count": null,
   "id": "8cb3deed",
   "metadata": {},
   "outputs": [],
   "source": [
    "x_axis = [x for x in df_grouped_border['Date']]\n",
    "y_axis = [x for x in df_grouped_border['Count']]\n",
    "\n",
    "plt.plot(x_axis, y_axis)\n",
    "plt.title('Plot showing the number of uses of the word \\'border\\' by republicans')\n",
    "plt.xlabel('Date')\n",
    "plt.ylabel('Number of uses')\n",
    "plt.show()"
   ]
  },
  {
   "cell_type": "code",
   "execution_count": null,
   "id": "a458e755",
   "metadata": {},
   "outputs": [],
   "source": [
    "series = pd.read_csv(\"data/grouped_border_df.csv\", header=0, index_col=0, parse_dates=True, squeeze=True)\n",
    "series.plot()"
   ]
  },
  {
   "cell_type": "code",
   "execution_count": null,
   "id": "9caa48bd",
   "metadata": {},
   "outputs": [],
   "source": [
    "df_grouped_border"
   ]
  },
  {
   "cell_type": "code",
   "execution_count": null,
   "id": "1a3cd44e",
   "metadata": {},
   "outputs": [],
   "source": [
    "border2022 = []\n",
    "for i in range(len(df_grouped_border)):\n",
    "    if '2022' in df_grouped_border.iloc[i]['Date']:\n",
    "        border2022.append(df_grouped_border.iloc[i])"
   ]
  },
  {
   "cell_type": "code",
   "execution_count": null,
   "id": "40c24295",
   "metadata": {},
   "outputs": [],
   "source": [
    "df_border2022 = pd.DataFrame(border2022)"
   ]
  },
  {
   "cell_type": "code",
   "execution_count": null,
   "id": "4eb29eb5",
   "metadata": {},
   "outputs": [],
   "source": [
    "df_border2022.head()"
   ]
  },
  {
   "cell_type": "code",
   "execution_count": null,
   "id": "99d105ef",
   "metadata": {
    "scrolled": true
   },
   "outputs": [],
   "source": [
    "df_border2022.plot()"
   ]
  },
  {
   "cell_type": "code",
   "execution_count": null,
   "id": "f97646a3",
   "metadata": {},
   "outputs": [],
   "source": [
    "border2022_21 = []\n",
    "for i in range(len(df_grouped_border)):\n",
    "    if '2022' in df_grouped_border.iloc[i]['Date'] or '2021' in df_grouped_border.iloc[i]['Date']:\n",
    "        border2022_21.append(df_grouped_border.iloc[i])"
   ]
  },
  {
   "cell_type": "code",
   "execution_count": null,
   "id": "fcb46a74",
   "metadata": {},
   "outputs": [],
   "source": [
    "df_border_22_21 = pd.DataFrame(border2022_21)"
   ]
  },
  {
   "cell_type": "code",
   "execution_count": null,
   "id": "4f5cbd01",
   "metadata": {},
   "outputs": [],
   "source": [
    "df_border_22_21.plot()"
   ]
  },
  {
   "cell_type": "code",
   "execution_count": null,
   "id": "b80c4d92",
   "metadata": {},
   "outputs": [],
   "source": [
    "border2022_20 = []\n",
    "for i in range(len(df_grouped_border)):\n",
    "    if '2022' in df_grouped_border.iloc[i]['Date'] or '2021' in df_grouped_border.iloc[i]['Date'] or '2020' in df_grouped_border.iloc[i]['Date']:\n",
    "        border2022_20.append(df_grouped_border.iloc[i])"
   ]
  },
  {
   "cell_type": "code",
   "execution_count": null,
   "id": "ad84dab3",
   "metadata": {},
   "outputs": [],
   "source": [
    "df_border_22_20 = pd.DataFrame(border2022_20)"
   ]
  },
  {
   "cell_type": "code",
   "execution_count": null,
   "id": "7a0745df",
   "metadata": {},
   "outputs": [],
   "source": [
    "df_border_22_20.plot()"
   ]
  },
  {
   "cell_type": "markdown",
   "id": "07c16171",
   "metadata": {},
   "source": [
    "## Time series for 'biden' by republicans:"
   ]
  },
  {
   "cell_type": "code",
   "execution_count": null,
   "id": "f284a65a",
   "metadata": {},
   "outputs": [],
   "source": [
    "biden_dates = []\n",
    "for i in range(len(df_rep_tweets)):\n",
    "    if 'biden' in df_rep_tweets.iloc[i]['key_word_list']:\n",
    "        biden_dates.append(df_rep_tweets.iloc[i]['created_at'][:10])"
   ]
  },
  {
   "cell_type": "code",
   "execution_count": null,
   "id": "cf2cbcd6",
   "metadata": {},
   "outputs": [],
   "source": [
    "len(biden_dates)"
   ]
  },
  {
   "cell_type": "code",
   "execution_count": null,
   "id": "07e09094",
   "metadata": {},
   "outputs": [],
   "source": [
    "biden_counts = []\n",
    "for i in range(len(biden_dates)):\n",
    "    biden_counts.append(1)"
   ]
  },
  {
   "cell_type": "code",
   "execution_count": null,
   "id": "2be04a2e",
   "metadata": {},
   "outputs": [],
   "source": [
    "biden_df = pd.DataFrame(list(zip(biden_dates, biden_counts)),\n",
    "               columns =['Date', 'Count'])"
   ]
  },
  {
   "cell_type": "code",
   "execution_count": null,
   "id": "28fb12be",
   "metadata": {},
   "outputs": [],
   "source": [
    "len(biden_df)"
   ]
  },
  {
   "cell_type": "code",
   "execution_count": null,
   "id": "2cfc4e22",
   "metadata": {},
   "outputs": [],
   "source": [
    "grouped_biden_df = biden_df.groupby(['Date']).sum()"
   ]
  },
  {
   "cell_type": "code",
   "execution_count": null,
   "id": "f58c9c08",
   "metadata": {
    "scrolled": false
   },
   "outputs": [],
   "source": [
    "grouped_biden_df"
   ]
  },
  {
   "cell_type": "code",
   "execution_count": null,
   "id": "ba443fc4",
   "metadata": {},
   "outputs": [],
   "source": [
    "grouped_biden_df.plot()"
   ]
  },
  {
   "cell_type": "code",
   "execution_count": null,
   "id": "f4d14c43",
   "metadata": {},
   "outputs": [],
   "source": [
    "grouped_biden_df.to_csv('C:/Users/Amara/Documents/GitHub/DS105-Project/data/grouped_biden_df.csv')"
   ]
  },
  {
   "cell_type": "code",
   "execution_count": null,
   "id": "27d426c0",
   "metadata": {},
   "outputs": [],
   "source": [
    "df_grouped_biden = pd.read_csv(\"data/grouped_biden_df.csv\")"
   ]
  },
  {
   "cell_type": "code",
   "execution_count": null,
   "id": "897bbde5",
   "metadata": {},
   "outputs": [],
   "source": [
    "biden2022 = []\n",
    "for i in range(len(df_grouped_biden)):\n",
    "    if '2022' in df_grouped_biden.iloc[i]['Date']:\n",
    "        biden2022.append(df_grouped_biden.iloc[i])"
   ]
  },
  {
   "cell_type": "code",
   "execution_count": null,
   "id": "1d8f8ddb",
   "metadata": {},
   "outputs": [],
   "source": [
    "df_biden2022 = pd.DataFrame(biden2022)"
   ]
  },
  {
   "cell_type": "code",
   "execution_count": null,
   "id": "b7251c46",
   "metadata": {},
   "outputs": [],
   "source": [
    "df_biden2022"
   ]
  },
  {
   "cell_type": "code",
   "execution_count": null,
   "id": "62fd2826",
   "metadata": {
    "scrolled": true
   },
   "outputs": [],
   "source": [
    "df_biden2022.plot()"
   ]
  },
  {
   "cell_type": "code",
   "execution_count": null,
   "id": "c71abab9",
   "metadata": {},
   "outputs": [],
   "source": [
    "df_biden2022.to_csv('C:/Users/Amara/Documents/GitHub/DS105-Project/data/df_biden2022.csv')"
   ]
  },
  {
   "cell_type": "code",
   "execution_count": null,
   "id": "99c1e6b7",
   "metadata": {
    "scrolled": false
   },
   "outputs": [],
   "source": [
    "series = pd.read_csv(\"data/df_biden2022.csv\", header=0, index_col=0, parse_dates=True, squeeze=True)\n",
    "series.plot()"
   ]
  },
  {
   "cell_type": "code",
   "execution_count": null,
   "id": "640e1f3b",
   "metadata": {},
   "outputs": [],
   "source": [
    "ggplot(df_biden2022, aes(x= 'Date', y= 'Count')) + geom_line()"
   ]
  },
  {
   "cell_type": "markdown",
   "id": "816c9466",
   "metadata": {},
   "source": [
    "if thinks date is string pd.to_datetime(...['date'])"
   ]
  },
  {
   "cell_type": "code",
   "execution_count": null,
   "id": "8d24aa07",
   "metadata": {},
   "outputs": [],
   "source": []
  },
  {
   "cell_type": "markdown",
   "id": "f93b7e38",
   "metadata": {},
   "source": [
    "## User engagement visualisations:"
   ]
  },
  {
   "cell_type": "code",
   "execution_count": null,
   "id": "9101d443",
   "metadata": {},
   "outputs": [],
   "source": [
    "df_dem_tweets.head()"
   ]
  },
  {
   "cell_type": "code",
   "execution_count": null,
   "id": "a5b00d2f",
   "metadata": {},
   "outputs": [],
   "source": [
    "dem_word_data_avg = {}\n",
    "for word in dems_not_reps:\n",
    "    num_tweets = 0\n",
    "    word_likes = 0\n",
    "    word_reply = 0\n",
    "    word_retweet = 0\n",
    "    for i in range(len(df_dem_tweets)):\n",
    "        if word in df_dem_tweets.iloc[i]['key_word_list']:\n",
    "            num_tweets += 1\n",
    "            word_likes += df_dem_tweets.iloc[i]['like_count']\n",
    "            word_reply += df_dem_tweets.iloc[i]['reply_count']\n",
    "            word_retweet += df_dem_tweets.iloc[i]['retweet_count']\n",
    "    dem_word_data_avg[word] = [word_likes/num_tweets, word_reply/num_tweets, word_retweet/num_tweets]"
   ]
  },
  {
   "cell_type": "code",
   "execution_count": null,
   "id": "fd16405b",
   "metadata": {},
   "outputs": [],
   "source": [
    "dem_word_data_avg"
   ]
  },
  {
   "cell_type": "code",
   "execution_count": null,
   "id": "15824a0e",
   "metadata": {
    "scrolled": true
   },
   "outputs": [],
   "source": [
    "plt.rcParams[\"figure.figsize\"] = [7.50, 3.50]\n",
    "plt.rcParams[\"figure.autolayout\"] = True\n",
    "\n",
    "d_avg_likes = []\n",
    "for word in dems_not_reps:\n",
    "    d_avg_likes.append(dem_word_data_avg[word][0])\n",
    "d_avg_replies = []\n",
    "for word in dems_not_reps:\n",
    "    d_avg_replies.append(dem_word_data_avg[word][1])\n",
    "d_avg_retweets = []\n",
    "for word in dems_not_reps:\n",
    "    d_avg_retweets.append(dem_word_data_avg[word][2])\n",
    "    \n",
    "dd = {\"Word\": dems_not_reps, \"Likes\": d_avg_likes, \"Replies\": d_avg_replies, \"Retweets\": d_avg_retweets}\n",
    "\n",
    "df = pd.DataFrame(dd)\n",
    "df.set_index('Word').plot(kind=\"bar\", align='center', width=0.1)\n",
    "plt.tick_params(rotation=45)\n",
    "\n",
    "plt.show()"
   ]
  },
  {
   "cell_type": "code",
   "execution_count": null,
   "id": "e90ba49e",
   "metadata": {},
   "outputs": [],
   "source": [
    "df_rep_tweets.head()"
   ]
  },
  {
   "cell_type": "code",
   "execution_count": null,
   "id": "c497ec0c",
   "metadata": {},
   "outputs": [],
   "source": [
    "rep_word_data_avg = {}\n",
    "for word in reps_not_dems:\n",
    "    num_tweets = 0\n",
    "    word_likes = 0\n",
    "    word_reply = 0\n",
    "    word_retweet = 0\n",
    "    for i in range(len(df_rep_tweets)):\n",
    "        if word in df_rep_tweets.iloc[i]['key_word_list']:\n",
    "            num_tweets += 1\n",
    "            word_likes += df_rep_tweets.iloc[i]['like_count']\n",
    "            word_reply += df_rep_tweets.iloc[i]['reply_count']\n",
    "            word_retweet += df_rep_tweets.iloc[i]['retweet_count']\n",
    "    rep_word_data_avg[word] = [word_likes/num_tweets, word_reply/num_tweets, word_retweet/num_tweets]"
   ]
  },
  {
   "cell_type": "code",
   "execution_count": null,
   "id": "63c9ffba",
   "metadata": {},
   "outputs": [],
   "source": [
    "rep_word_data_avg"
   ]
  },
  {
   "cell_type": "code",
   "execution_count": null,
   "id": "f3799e9b",
   "metadata": {
    "scrolled": true
   },
   "outputs": [],
   "source": [
    "plt.rcParams[\"figure.figsize\"] = [7.50, 3.50]\n",
    "plt.rcParams[\"figure.autolayout\"] = True\n",
    "\n",
    "r_avg_likes = []\n",
    "for word in reps_not_dems:\n",
    "    r_avg_likes.append(rep_word_data_avg[word][0])\n",
    "r_avg_replies = []\n",
    "for word in reps_not_dems:\n",
    "    r_avg_replies.append(rep_word_data_avg[word][1])\n",
    "r_avg_retweets = []\n",
    "for word in reps_not_dems:\n",
    "    r_avg_retweets.append(rep_word_data_avg[word][2])\n",
    "    \n",
    "rd = {\"Word\": reps_not_dems, \"Likes\": r_avg_likes, \"Replies\": r_avg_replies, \"Retweets\": r_avg_retweets}\n",
    "\n",
    "rdf = pd.DataFrame(rd)\n",
    "rdf.set_index('Word').plot(kind=\"bar\", align='center', width=0.1)\n",
    "plt.tick_params(rotation=45)\n",
    "\n",
    "plt.show()"
   ]
  },
  {
   "cell_type": "code",
   "execution_count": null,
   "id": "22a5bd7c",
   "metadata": {
    "scrolled": true
   },
   "outputs": [],
   "source": [
    "rdf.head()"
   ]
  },
  {
   "cell_type": "code",
   "execution_count": null,
   "id": "2a1ff9f1",
   "metadata": {},
   "outputs": [],
   "source": [
    "# Plotting side by side bar graphs:\n",
    "\n",
    "# http://www.cookbook-r.com/Graphs/Bar_and_line_graphs_(ggplot2)/\n",
    "# R Graphics Cookbook by Winston Chang Reference\n",
    "# Result of heads or tails in x = axis, Counts as y axis, diff colours for each player.\n",
    "# Put labels:\n",
    "\n",
    "ggplot(rdf, aes(x = Result, y = Freq, fill = Player)) + \n",
    "geom_bar(stat = \"identity\", position = position_dodge(), alpha = 0.75) + \n",
    "ylim(0,800) + \n",
    "geom_text(aes(label = Freq), \n",
    "          fontface = \"bold\", vjust = 1.5, \n",
    "          position = position_dodge(.9), size = 4) + \n",
    "labs(x = \"\\n Word\", y = \"Count\\n\", title = \"\\n User engagement statistics \\n\") + \n",
    "theme(plot.title = element_text(hjust = 0.5), \n",
    "      axis.title.x = element_text(face=\"bold\", colour=\"red\", size = 12), \n",
    "      axis.title.y = element_text(face=\"bold\", colour=\"red\", size = 12), \n",
    "      legend.title = element_text(face=\"bold\", size = 10))"
   ]
  },
  {
   "cell_type": "code",
   "execution_count": null,
   "id": "f70e07d3",
   "metadata": {},
   "outputs": [],
   "source": []
  },
  {
   "cell_type": "code",
   "execution_count": null,
   "id": "a28debce",
   "metadata": {},
   "outputs": [],
   "source": [
    "# Facet_grid:\n",
    "\n",
    "ggplot(data = rdf, aes(x = Word, y = Freq)) +\n",
    "  geom_bar(stat = \"identity\", alpha = 0.7) +\n",
    "  facet_grid(. ~Word)  +\n",
    "  ylim(0,800) +\n",
    "  geom_text(aes(label = Freq), fontface = \"bold\", vjust = 1.5, colour = \"white\", size = 4) +\n",
    "  labs(x = \"\\n Coin Flip Outcome\", y = \"Frequency\\n\", title = \"\\n Coin Flip Results \\n\") +\n",
    "  theme(plot.title = element_text(hjust = 0.5), \n",
    "        axis.title.x = element_text(face=\"bold\", colour=\"darkgreen\", size = 12),\n",
    "        axis.title.y = element_text(face=\"bold\", colour=\"darkgreen\", size = 12),\n",
    "        legend.title = element_text(face=\"bold\", size = 10),\n",
    "        strip.background = element_rect(fill=\"lightblue\", colour=\"black\", size=1),\n",
    "        strip.text = element_text(face=\"bold\", size=rel(1.2)))"
   ]
  },
  {
   "cell_type": "code",
   "execution_count": null,
   "id": "142ebdab",
   "metadata": {},
   "outputs": [],
   "source": [
    "# Plotting side by side bar graphs:\n",
    "\n",
    "# http://www.cookbook-r.com/Graphs/Bar_and_line_graphs_(ggplot2)/\n",
    "# R Graphics Cookbook by Winston Chang Reference\n",
    "# Result of heads or tails in x = axis, Counts as y axis, diff colours for each player.\n",
    "# Put labels:\n",
    "\n",
    "ggplot(data = results, aes(x = Result, y = Freq, fill = Player)) +\n",
    "  geom_bar(stat = \"identity\", position = position_dodge(), alpha = 0.75)  +\n",
    "  ylim(0,800) +\n",
    "  geom_text(aes(label = Freq), fontface = \"bold\", vjust = 1.5,\n",
    "             position = position_dodge(.9), size = 4) +\n",
    "  labs(x = \"\\n Coin Flip Outcome\", y = \"Frequency\\n\", title = \"\\n Coin Flip Results \\n\") +\n",
    "  theme(plot.title = element_text(hjust = 0.5), \n",
    "        axis.title.x = element_text(face=\"bold\", colour=\"red\", size = 12),\n",
    "        axis.title.y = element_text(face=\"bold\", colour=\"red\", size = 12),\n",
    "        legend.title = element_text(face=\"bold\", size = 10))\n"
   ]
  },
  {
   "cell_type": "code",
   "execution_count": null,
   "id": "0421e607",
   "metadata": {},
   "outputs": [],
   "source": []
  }
 ],
 "metadata": {
  "kernelspec": {
   "display_name": "Python 3 (ipykernel)",
   "language": "python",
   "name": "python3"
  },
  "language_info": {
   "codemirror_mode": {
    "name": "ipython",
    "version": 3
   },
   "file_extension": ".py",
   "mimetype": "text/x-python",
   "name": "python",
   "nbconvert_exporter": "python",
   "pygments_lexer": "ipython3",
   "version": "3.9.12"
  }
 },
 "nbformat": 4,
 "nbformat_minor": 5
}
